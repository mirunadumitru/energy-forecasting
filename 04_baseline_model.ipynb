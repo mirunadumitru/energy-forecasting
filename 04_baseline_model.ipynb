{
 "cells": [
  {
   "cell_type": "code",
   "execution_count": 6,
   "id": "5e4837f3-e0e9-42a6-9e40-277712b20b1a",
   "metadata": {},
   "outputs": [
    {
     "name": "stdout",
     "output_type": "stream",
     "text": [
      "Requirement already satisfied: scikit-learn in c:\\users\\mirun\\appdata\\local\\programs\\python\\python311\\lib\\site-packages (1.7.1)\n",
      "Requirement already satisfied: numpy>=1.22.0 in c:\\users\\mirun\\appdata\\local\\programs\\python\\python311\\lib\\site-packages (from scikit-learn) (2.3.1)\n",
      "Requirement already satisfied: scipy>=1.8.0 in c:\\users\\mirun\\appdata\\local\\programs\\python\\python311\\lib\\site-packages (from scikit-learn) (1.16.1)\n",
      "Requirement already satisfied: joblib>=1.2.0 in c:\\users\\mirun\\appdata\\local\\programs\\python\\python311\\lib\\site-packages (from scikit-learn) (1.5.1)\n",
      "Requirement already satisfied: threadpoolctl>=3.1.0 in c:\\users\\mirun\\appdata\\local\\programs\\python\\python311\\lib\\site-packages (from scikit-learn) (3.6.0)\n"
     ]
    },
    {
     "name": "stderr",
     "output_type": "stream",
     "text": [
      "\n",
      "[notice] A new release of pip available: 22.3 -> 25.2\n",
      "[notice] To update, run: python.exe -m pip install --upgrade pip\n"
     ]
    }
   ],
   "source": [
    "!pip install scikit-learn"
   ]
  },
  {
   "cell_type": "code",
   "execution_count": 10,
   "id": "26d2bdf4-57a5-4266-a6c7-caf3f4a6ec88",
   "metadata": {},
   "outputs": [
    {
     "name": "stdout",
     "output_type": "stream",
     "text": [
      "               Model        MAE       RMSE\n",
      "0              Naive  26.047461  65.185076\n",
      "1  Linear Regression  25.910229  59.930032\n"
     ]
    }
   ],
   "source": [
    "import pandas as pd\n",
    "import numpy as np\n",
    "from sklearn.linear_model import LinearRegression\n",
    "from sklearn.metrics import mean_absolute_error, mean_squared_error\n",
    "\n",
    "df = pd.read_csv(\"data/raw/energydata_complete.csv\", parse_dates=[\"date\"], skipinitialspace=True)\n",
    "\n",
    "df[\"hour\"] = df[\"date\"].dt.hour\n",
    "df[\"dow\"] = df[\"date\"].dt.dayofweek\n",
    "df[\"month\"] = df[\"date\"].dt.month\n",
    "\n",
    "lags = [1, 6, 24, 144]\n",
    "for L in lags:\n",
    "    df[f\"lag_{L}\"] = df[\"Appliances\"].shift(L)\n",
    "\n",
    "df = df.dropna().reset_index(drop=True)\n",
    "\n",
    "cols = [\"hour\", \"dow\", \"month\"] + [f\"lag_{L}\" for L in lags]\n",
    "X = df[cols]\n",
    "y = df[\"Appliances\"]\n",
    "\n",
    "split = int(len(df) * 0.8)\n",
    "X_train, X_test = X.iloc[:split], X.iloc[split:]\n",
    "y_train, y_test = y.iloc[:split], y.iloc[split:]\n",
    "\n",
    "naive_pred = y.shift(1).iloc[split:]\n",
    "mae_naive = mean_absolute_error(y_test, naive_pred)\n",
    "rmse_naive = np.sqrt(mean_squared_error(y_test, naive_pred))\n",
    "\n",
    "model = LinearRegression()\n",
    "model.fit(X_train, y_train)\n",
    "pred = model.predict(X_test)\n",
    "\n",
    "mae_lr = mean_absolute_error(y_test, pred)\n",
    "rmse_lr = np.sqrt(mean_squared_error(y_test, pred))\n",
    "\n",
    "print(pd.DataFrame({\n",
    "    \"Model\": [\"Naive\", \"Linear Regression\"],\n",
    "    \"MAE\": [mae_naive, mae_lr],\n",
    "    \"RMSE\": [rmse_naive, rmse_lr]\n",
    "}))\n"
   ]
  },
  {
   "cell_type": "code",
   "execution_count": null,
   "id": "b255a6cf-9657-4b93-b2e5-c16c6a87e576",
   "metadata": {},
   "outputs": [],
   "source": []
  }
 ],
 "metadata": {
  "kernelspec": {
   "display_name": "Python 3 (ipykernel)",
   "language": "python",
   "name": "python3"
  },
  "language_info": {
   "codemirror_mode": {
    "name": "ipython",
    "version": 3
   },
   "file_extension": ".py",
   "mimetype": "text/x-python",
   "name": "python",
   "nbconvert_exporter": "python",
   "pygments_lexer": "ipython3",
   "version": "3.11.0"
  }
 },
 "nbformat": 4,
 "nbformat_minor": 5
}
